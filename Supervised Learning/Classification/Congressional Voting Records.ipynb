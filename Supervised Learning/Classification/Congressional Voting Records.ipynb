{
 "cells": [
  {
   "cell_type": "markdown",
   "metadata": {},
   "source": [
    "# Supervised Learning- Classification"
   ]
  },
  {
   "cell_type": "code",
   "execution_count": 330,
   "metadata": {},
   "outputs": [],
   "source": [
    "# Import Packages\n",
    "import pandas as pd\n",
    "import numpy as np\n",
    "from sklearn.model_selection import train_test_split\n",
    "import sklearn.metrics as metrics\n",
    "from sklearn.pipeline import Pipeline\n",
    "import matplotlib.pyplot as plt\n",
    "from sklearn.metrics import roc_curve\n",
    "from sklearn.preprocessing import Imputer\n",
    "from sklearn.preprocessing import scale\n",
    "from sklearn.preprocessing import StandardScaler\n",
    "from sklearn.svm import SVC"
   ]
  },
  {
   "cell_type": "markdown",
   "metadata": {},
   "source": [
    "##### Data Set Information\n",
    "This data set includes votes for each of the U.S House of Representatives Congressmen on the 16 key votes identified by CQA. The CQA lists nine different types of votes: voted for, paired for, and announced for (these three simplified to yea), voted against, paired against, and announced against (these three simplified ti nay), voted present, vote present to avoid confilict of intrest, and did not vote or otherwise make a position known (these three simplified to an unkown disposition)\n",
    "\n",
    "Attributes definition:\n",
    "    1. Class_names: Class Name: 2 (democrat, republicac)\n",
    "    2. HI: handicapped infants: 2 (y/n)\n",
    "    3. WPCS: water project cost sharing: 2(y/n)\n",
    "    4. ABR: adoption of the budget resolution: 2 (y/n)\n",
    "    5. PFF: physician fee freeze: 2 (y/n)\n",
    "    6. ESA: el salvador aid: 2 (y/n)\n",
    "    7. RGS: religious group in school: 2 (y,n)\n",
    "    8. ASTB: anit satellite test ban: 2 (y,n)\n",
    "    9. ANC: anti to nicaraguan-contras: 2 (y,n)\n",
    "    10. MM: mix-missile: 2 (y,n)\n",
    "    11. Immigration: immigration: 2 (y,n)\n",
    "    12. SCC: synfuels coporation cutback: 2 (y,n)\n",
    "    13.  ES: education spending: 2 (y,n)\n",
    "    14. SRS: superfund right to sue: 2 (y,n)\n",
    "    15. Crime: crime: 2 (y,n)\n",
    "    16. DFE: duty free export: 2 (y,n)\n",
    "    17. EAASA: export adminisration act south africa: 2 (y,n)"
   ]
  },
  {
   "cell_type": "code",
   "execution_count": 331,
   "metadata": {},
   "outputs": [],
   "source": [
    "# Import Data Set\n",
    "df_house_votes_84 = pd.read_csv(\"house-votes-84.csv\")\n",
    "df_house_votes_84.columns = [\"Class_names\", \"HI\", \"WPCS\", \"ABR\", \"PFF\",\n",
    "                             \"ESA\", \"RGS\", \"ASTB\", \"ANC\", \"MM\", \"Immigration\", \n",
    "                             \"SCC\", \"ES\", \"SRS\", \"Crime\", \"DFE\", \"EAASA\"]\n",
    "df_house_votes_84 = df_house_votes_84.replace(['y','n', '?'], [1,0, np.nan])"
   ]
  },
  {
   "cell_type": "code",
   "execution_count": 332,
   "metadata": {},
   "outputs": [
    {
     "data": {
      "text/html": [
       "<div>\n",
       "<style scoped>\n",
       "    .dataframe tbody tr th:only-of-type {\n",
       "        vertical-align: middle;\n",
       "    }\n",
       "\n",
       "    .dataframe tbody tr th {\n",
       "        vertical-align: top;\n",
       "    }\n",
       "\n",
       "    .dataframe thead th {\n",
       "        text-align: right;\n",
       "    }\n",
       "</style>\n",
       "<table border=\"1\" class=\"dataframe\">\n",
       "  <thead>\n",
       "    <tr style=\"text-align: right;\">\n",
       "      <th></th>\n",
       "      <th>freq</th>\n",
       "      <th>count</th>\n",
       "      <th>missing_data_%</th>\n",
       "    </tr>\n",
       "  </thead>\n",
       "  <tbody>\n",
       "    <tr>\n",
       "      <td>Class_names</td>\n",
       "      <td>434</td>\n",
       "      <td>434</td>\n",
       "      <td>0</td>\n",
       "    </tr>\n",
       "    <tr>\n",
       "      <td>HI</td>\n",
       "      <td>422</td>\n",
       "      <td>434</td>\n",
       "      <td>2.76498</td>\n",
       "    </tr>\n",
       "    <tr>\n",
       "      <td>WPCS</td>\n",
       "      <td>386</td>\n",
       "      <td>434</td>\n",
       "      <td>11.0599</td>\n",
       "    </tr>\n",
       "    <tr>\n",
       "      <td>ABR</td>\n",
       "      <td>423</td>\n",
       "      <td>434</td>\n",
       "      <td>2.53456</td>\n",
       "    </tr>\n",
       "    <tr>\n",
       "      <td>PFF</td>\n",
       "      <td>423</td>\n",
       "      <td>434</td>\n",
       "      <td>2.53456</td>\n",
       "    </tr>\n",
       "    <tr>\n",
       "      <td>ESA</td>\n",
       "      <td>419</td>\n",
       "      <td>434</td>\n",
       "      <td>3.45622</td>\n",
       "    </tr>\n",
       "    <tr>\n",
       "      <td>RGS</td>\n",
       "      <td>423</td>\n",
       "      <td>434</td>\n",
       "      <td>2.53456</td>\n",
       "    </tr>\n",
       "    <tr>\n",
       "      <td>ASTB</td>\n",
       "      <td>420</td>\n",
       "      <td>434</td>\n",
       "      <td>3.22581</td>\n",
       "    </tr>\n",
       "    <tr>\n",
       "      <td>ANC</td>\n",
       "      <td>419</td>\n",
       "      <td>434</td>\n",
       "      <td>3.45622</td>\n",
       "    </tr>\n",
       "    <tr>\n",
       "      <td>MM</td>\n",
       "      <td>412</td>\n",
       "      <td>434</td>\n",
       "      <td>5.06912</td>\n",
       "    </tr>\n",
       "    <tr>\n",
       "      <td>Immigration</td>\n",
       "      <td>427</td>\n",
       "      <td>434</td>\n",
       "      <td>1.6129</td>\n",
       "    </tr>\n",
       "    <tr>\n",
       "      <td>SCC</td>\n",
       "      <td>414</td>\n",
       "      <td>434</td>\n",
       "      <td>4.60829</td>\n",
       "    </tr>\n",
       "    <tr>\n",
       "      <td>ES</td>\n",
       "      <td>403</td>\n",
       "      <td>434</td>\n",
       "      <td>7.14286</td>\n",
       "    </tr>\n",
       "    <tr>\n",
       "      <td>SRS</td>\n",
       "      <td>409</td>\n",
       "      <td>434</td>\n",
       "      <td>5.76037</td>\n",
       "    </tr>\n",
       "    <tr>\n",
       "      <td>Crime</td>\n",
       "      <td>417</td>\n",
       "      <td>434</td>\n",
       "      <td>3.91705</td>\n",
       "    </tr>\n",
       "    <tr>\n",
       "      <td>DFE</td>\n",
       "      <td>406</td>\n",
       "      <td>434</td>\n",
       "      <td>6.45161</td>\n",
       "    </tr>\n",
       "    <tr>\n",
       "      <td>EAASA</td>\n",
       "      <td>330</td>\n",
       "      <td>434</td>\n",
       "      <td>23.9631</td>\n",
       "    </tr>\n",
       "  </tbody>\n",
       "</table>\n",
       "</div>"
      ],
      "text/plain": [
       "            freq count missing_data_%\n",
       "Class_names  434   434              0\n",
       "HI           422   434        2.76498\n",
       "WPCS         386   434        11.0599\n",
       "ABR          423   434        2.53456\n",
       "PFF          423   434        2.53456\n",
       "ESA          419   434        3.45622\n",
       "RGS          423   434        2.53456\n",
       "ASTB         420   434        3.22581\n",
       "ANC          419   434        3.45622\n",
       "MM           412   434        5.06912\n",
       "Immigration  427   434         1.6129\n",
       "SCC          414   434        4.60829\n",
       "ES           403   434        7.14286\n",
       "SRS          409   434        5.76037\n",
       "Crime        417   434        3.91705\n",
       "DFE          406   434        6.45161\n",
       "EAASA        330   434        23.9631"
      ]
     },
     "execution_count": 332,
     "metadata": {},
     "output_type": "execute_result"
    }
   ],
   "source": [
    "# Missing values\n",
    "Missing_valid = df_house_votes_84.isnull().describe().T[[\"freq\", \"count\"]]\n",
    "Missing_valid[\"missing_data_%\"] = (1-(Missing_valid[\"freq\"]/Missing_valid['count']))*100\n",
    "Missing_valid"
   ]
  },
  {
   "cell_type": "code",
   "execution_count": 333,
   "metadata": {},
   "outputs": [],
   "source": [
    "# Removed EAASA as its missing 24% of data\n",
    "#df_home_votes_84 = df_house_votes_84.drop(columns = [\"EAASA\"])\n",
    "df_house_votes = df_house_votes_84.dropna()"
   ]
  },
  {
   "cell_type": "code",
   "execution_count": 334,
   "metadata": {},
   "outputs": [],
   "source": [
    "# Create array for the features and the response variable\n",
    "y = df_house_votes['Class_names'].values\n",
    "X = df_house_votes.drop('Class_names', axis = 1).values\n",
    "\n",
    "# split data set into train and test\n",
    "x_train, x_test, y_train, y_test = train_test_split(X, y, stratify=y,\n",
    "                                                    test_size = 0.7, \n",
    "                                                    random_state = 42)\n"
   ]
  },
  {
   "cell_type": "code",
   "execution_count": 335,
   "metadata": {},
   "outputs": [
    {
     "data": {
      "image/png": "[encoded data removed]",
      "text/plain": [
       "<Figure size 432x288 with 1 Axes>"
      ]
     },
     "metadata": {
      "needs_background": "light"
     },
     "output_type": "display_data"
    }
   ],
   "source": [
    "# Setput arrays to store train and test accuracies\n",
    "neighbors = np.arange(1,20)\n",
    "train_accuracy = np.empty(len(neighbors))\n",
    "test_accuracy = np.empty(len(neighbors))\n",
    "\n",
    "# Loop over different values of k\n",
    "for i, k in enumerate(neighbors):\n",
    "    # Setup a k-NN Classifier with k neighbors: knn\n",
    "    knn = KNeighborsClassifier(n_neighbors = k)\n",
    "    \n",
    "    # Fit the classifier to the training data\n",
    "    knn.fit(x_train, y_train)\n",
    "    \n",
    "    # Compute accuracy on the training set\n",
    "    train_accuracy[i] = knn.score(x_train, y_train)\n",
    "    \n",
    "    # Compute accuracy on the testing set\n",
    "    test_accuracy[i] = knn.score(x_test, y_test)\n",
    "    \n",
    "\n",
    "# Generate plot\n",
    "plt.title('k-NN: Varying Number of Neighbors')\n",
    "plt.plot(neighbors, test_accuracy, label = 'Testing Accuracy')\n",
    "plt.plot(neighbors, train_accuracy, label = 'Training Accuracy')\n",
    "plt.legend()\n",
    "plt.xlabel('Number of Neighbors')\n",
    "plt.ylabel('Accuracy')\n",
    "plt.show()"
   ]
  },
  {
   "cell_type": "code",
   "execution_count": 336,
   "metadata": {},
   "outputs": [
    {
     "name": "stdout",
     "output_type": "stream",
     "text": [
      "              precision    recall  f1-score   support\n",
      "\n",
      "    democrat       0.96      0.94      0.95        87\n",
      "  republican       0.94      0.96      0.95        76\n",
      "\n",
      "    accuracy                           0.95       163\n",
      "   macro avg       0.95      0.95      0.95       163\n",
      "weighted avg       0.95      0.95      0.95       163\n",
      "\n"
     ]
    }
   ],
   "source": [
    "# Create a K-nn classfication wih 6 neighbors\n",
    "knn = KNeighborsClassifier(n_neighbors=6)\n",
    "\n",
    "# Fit the classifier to the data\n",
    "knn.fit(x_train,y_train)\n",
    "y_pred = knn.predict(x_test)\n",
    "\n",
    "print(metrics.classification_report(y_test,y_pred))"
   ]
  },
  {
   "cell_type": "code",
   "execution_count": 340,
   "metadata": {},
   "outputs": [
    {
     "name": "stderr",
     "output_type": "stream",
     "text": [
      "C:\\Users\\haris\\Anaconda3\\lib\\site-packages\\sklearn\\utils\\deprecation.py:66: DeprecationWarning: Class Imputer is deprecated; Imputer was deprecated in version 0.20 and will be removed in 0.22. Import impute.SimpleImputer from sklearn instead.\n",
      "  warnings.warn(msg, category=DeprecationWarning)\n"
     ]
    }
   ],
   "source": [
    "Y = df_house_votes_84['Class_names'].values\n",
    "x = df_house_votes_84.drop('Class_names', axis = 1).values\n",
    "\n",
    "\n",
    "# Setup the pipeline steps: steps\n",
    "steps = [('imputation', Imputer(missing_values = 'NaN',\n",
    "                               strategy = 'most_frequent', axis = 0)),\n",
    "                                #('scaler', StandardScaler()),\n",
    "                                ('kNN', KNeighborsClassifier(n_neighbors = 6))]\n",
    "# Create the pipeline: pipeline\n",
    "pipeline = Pipeline(steps)\n",
    "\n",
    "# Create Traning and Test sets\n",
    "x_train, x_test, y_train, y_test = train_test_split(x, Y, test_size = 0.3, \n",
    "                                                    random_state = 42)\n",
    "# Fit the pipeline to the train set\n",
    "pipeline.fit(x_train, y_train)\n",
    "\n",
    "# Predict the labels of the train set\n",
    "y_pred = pipeline.predict(x_test)"
   ]
  },
  {
   "cell_type": "code",
   "execution_count": 338,
   "metadata": {},
   "outputs": [
    {
     "name": "stdout",
     "output_type": "stream",
     "text": [
      "              precision    recall  f1-score   support\n",
      "\n",
      "    democrat       0.96      0.89      0.92        83\n",
      "  republican       0.83      0.94      0.88        48\n",
      "\n",
      "    accuracy                           0.91       131\n",
      "   macro avg       0.90      0.91      0.90       131\n",
      "weighted avg       0.91      0.91      0.91       131\n",
      "\n"
     ]
    }
   ],
   "source": [
    "print(metrics.classification_report(y_test, y_pred))"
   ]
  }
 ],
 "metadata": {
  "kernelspec": {
   "display_name": "Python 3",
   "language": "python",
   "name": "python3"
  },
  "language_info": {
   "codemirror_mode": {
    "name": "ipython",
    "version": 3
   },
   "file_extension": ".py",
   "mimetype": "text/x-python",
   "name": "python",
   "nbconvert_exporter": "python",
   "pygments_lexer": "ipython3",
   "version": "3.7.4"
  }
 },
 "nbformat": 4,
 "nbformat_minor": 2
}
